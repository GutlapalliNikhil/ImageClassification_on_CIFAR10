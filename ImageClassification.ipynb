{
  "nbformat": 4,
  "nbformat_minor": 0,
  "metadata": {
    "colab": {
      "name": "ImageClassification.ipynb",
      "provenance": [],
      "authorship_tag": "ABX9TyOW4f7KzRh2dBi15Nho7Tvm",
      "include_colab_link": true
    },
    "kernelspec": {
      "name": "python3",
      "display_name": "Python 3"
    },
    "language_info": {
      "name": "python"
    },
    "accelerator": "GPU"
  },
  "cells": [
    {
      "cell_type": "markdown",
      "metadata": {
        "id": "view-in-github",
        "colab_type": "text"
      },
      "source": [
        "<a href=\"https://colab.research.google.com/github/GutlapalliNikhil/ImageClassification_on_CIFAR10/blob/main/ImageClassification.ipynb\" target=\"_parent\"><img src=\"https://colab.research.google.com/assets/colab-badge.svg\" alt=\"Open In Colab\"/></a>"
      ]
    },
    {
      "cell_type": "code",
      "execution_count": 2,
      "metadata": {
        "colab": {
          "base_uri": "https://localhost:8080/"
        },
        "id": "D11Yj5vqP2jJ",
        "outputId": "7ab1696b-78ef-443c-f520-32c3d9a1f17e"
      },
      "outputs": [
        {
          "output_type": "stream",
          "name": "stdout",
          "text": [
            "Fri Feb  4 06:47:24 2022       \n",
            "+-----------------------------------------------------------------------------+\n",
            "| NVIDIA-SMI 460.32.03    Driver Version: 460.32.03    CUDA Version: 11.2     |\n",
            "|-------------------------------+----------------------+----------------------+\n",
            "| GPU  Name        Persistence-M| Bus-Id        Disp.A | Volatile Uncorr. ECC |\n",
            "| Fan  Temp  Perf  Pwr:Usage/Cap|         Memory-Usage | GPU-Util  Compute M. |\n",
            "|                               |                      |               MIG M. |\n",
            "|===============================+======================+======================|\n",
            "|   0  Tesla K80           Off  | 00000000:00:04.0 Off |                    0 |\n",
            "| N/A   31C    P8    28W / 149W |      0MiB / 11441MiB |      0%      Default |\n",
            "|                               |                      |                  N/A |\n",
            "+-------------------------------+----------------------+----------------------+\n",
            "                                                                               \n",
            "+-----------------------------------------------------------------------------+\n",
            "| Processes:                                                                  |\n",
            "|  GPU   GI   CI        PID   Type   Process name                  GPU Memory |\n",
            "|        ID   ID                                                   Usage      |\n",
            "|=============================================================================|\n",
            "|  No running processes found                                                 |\n",
            "+-----------------------------------------------------------------------------+\n"
          ]
        }
      ],
      "source": [
        "!nvidia-smi"
      ]
    },
    {
      "cell_type": "code",
      "source": [
        "import os\n",
        "os.environ[\"TF_CPP_MIN_LOG_LEVEl\"] = \"3\"\n",
        "\n",
        "import tensorflow as tf\n",
        "print(tf.__version__)"
      ],
      "metadata": {
        "colab": {
          "base_uri": "https://localhost:8080/"
        },
        "id": "I8STYnCYQNlP",
        "outputId": "64c40489-7353-4437-e0a4-80c7f292e326"
      },
      "execution_count": 3,
      "outputs": [
        {
          "output_type": "stream",
          "name": "stdout",
          "text": [
            "2.7.0\n"
          ]
        }
      ]
    },
    {
      "cell_type": "code",
      "source": [
        "if not os.path.exists(\"helper_functions.py\"):\n",
        "  print(\"Downloading python file\")\n",
        "  !wget https://raw.githubusercontent.com/mrdbourke/tensorflow-deep-learning/main/extras/helper_functions.py\n",
        "else:\n",
        "  print(\"Already Present, so skipping..\")"
      ],
      "metadata": {
        "colab": {
          "base_uri": "https://localhost:8080/"
        },
        "id": "K1lzrs9cXG68",
        "outputId": "1a886ea6-ca3c-4bf0-f45d-333dbb8aa62c"
      },
      "execution_count": 4,
      "outputs": [
        {
          "output_type": "stream",
          "name": "stdout",
          "text": [
            "Already Present, so skipping..\n"
          ]
        }
      ]
    },
    {
      "cell_type": "code",
      "source": [
        "from helper_functions import create_tensorboard_callback, plot_loss_curves"
      ],
      "metadata": {
        "id": "BVWa1IksXaEN"
      },
      "execution_count": 5,
      "outputs": []
    },
    {
      "cell_type": "code",
      "source": [
        "import tensorflow_datasets as tfds"
      ],
      "metadata": {
        "id": "MD18A8AdYBjl"
      },
      "execution_count": 6,
      "outputs": []
    },
    {
      "cell_type": "code",
      "source": [
        "tfds.list_builders()"
      ],
      "metadata": {
        "colab": {
          "base_uri": "https://localhost:8080/"
        },
        "id": "OdYqTFrGYozD",
        "outputId": "f06a8b89-991f-47b2-95d3-d678751107b4"
      },
      "execution_count": 7,
      "outputs": [
        {
          "output_type": "execute_result",
          "data": {
            "text/plain": [
              "['abstract_reasoning',\n",
              " 'accentdb',\n",
              " 'aeslc',\n",
              " 'aflw2k3d',\n",
              " 'ag_news_subset',\n",
              " 'ai2_arc',\n",
              " 'ai2_arc_with_ir',\n",
              " 'amazon_us_reviews',\n",
              " 'anli',\n",
              " 'arc',\n",
              " 'bair_robot_pushing_small',\n",
              " 'bccd',\n",
              " 'beans',\n",
              " 'big_patent',\n",
              " 'bigearthnet',\n",
              " 'billsum',\n",
              " 'binarized_mnist',\n",
              " 'binary_alpha_digits',\n",
              " 'blimp',\n",
              " 'bool_q',\n",
              " 'c4',\n",
              " 'caltech101',\n",
              " 'caltech_birds2010',\n",
              " 'caltech_birds2011',\n",
              " 'cars196',\n",
              " 'cassava',\n",
              " 'cats_vs_dogs',\n",
              " 'celeb_a',\n",
              " 'celeb_a_hq',\n",
              " 'cfq',\n",
              " 'chexpert',\n",
              " 'cifar10',\n",
              " 'cifar100',\n",
              " 'cifar10_1',\n",
              " 'cifar10_corrupted',\n",
              " 'citrus_leaves',\n",
              " 'cityscapes',\n",
              " 'civil_comments',\n",
              " 'clevr',\n",
              " 'clic',\n",
              " 'clinc_oos',\n",
              " 'cmaterdb',\n",
              " 'cnn_dailymail',\n",
              " 'coco',\n",
              " 'coco_captions',\n",
              " 'coil100',\n",
              " 'colorectal_histology',\n",
              " 'colorectal_histology_large',\n",
              " 'common_voice',\n",
              " 'coqa',\n",
              " 'cos_e',\n",
              " 'cosmos_qa',\n",
              " 'covid19sum',\n",
              " 'crema_d',\n",
              " 'curated_breast_imaging_ddsm',\n",
              " 'cycle_gan',\n",
              " 'deep_weeds',\n",
              " 'definite_pronoun_resolution',\n",
              " 'dementiabank',\n",
              " 'diabetic_retinopathy_detection',\n",
              " 'div2k',\n",
              " 'dmlab',\n",
              " 'downsampled_imagenet',\n",
              " 'dsprites',\n",
              " 'dtd',\n",
              " 'duke_ultrasound',\n",
              " 'emnist',\n",
              " 'eraser_multi_rc',\n",
              " 'esnli',\n",
              " 'eurosat',\n",
              " 'fashion_mnist',\n",
              " 'flic',\n",
              " 'flores',\n",
              " 'food101',\n",
              " 'forest_fires',\n",
              " 'fuss',\n",
              " 'gap',\n",
              " 'geirhos_conflict_stimuli',\n",
              " 'genomics_ood',\n",
              " 'german_credit_numeric',\n",
              " 'gigaword',\n",
              " 'glue',\n",
              " 'goemotions',\n",
              " 'gpt3',\n",
              " 'groove',\n",
              " 'gtzan',\n",
              " 'gtzan_music_speech',\n",
              " 'hellaswag',\n",
              " 'higgs',\n",
              " 'horses_or_humans',\n",
              " 'i_naturalist2017',\n",
              " 'imagenet2012',\n",
              " 'imagenet2012_corrupted',\n",
              " 'imagenet2012_real',\n",
              " 'imagenet2012_subset',\n",
              " 'imagenet_a',\n",
              " 'imagenet_r',\n",
              " 'imagenet_resized',\n",
              " 'imagenet_v2',\n",
              " 'imagenette',\n",
              " 'imagewang',\n",
              " 'imdb_reviews',\n",
              " 'irc_disentanglement',\n",
              " 'iris',\n",
              " 'kitti',\n",
              " 'kmnist',\n",
              " 'lfw',\n",
              " 'librispeech',\n",
              " 'librispeech_lm',\n",
              " 'libritts',\n",
              " 'ljspeech',\n",
              " 'lm1b',\n",
              " 'lost_and_found',\n",
              " 'lsun',\n",
              " 'malaria',\n",
              " 'math_dataset',\n",
              " 'mctaco',\n",
              " 'mnist',\n",
              " 'mnist_corrupted',\n",
              " 'movie_lens',\n",
              " 'movie_rationales',\n",
              " 'movielens',\n",
              " 'moving_mnist',\n",
              " 'multi_news',\n",
              " 'multi_nli',\n",
              " 'multi_nli_mismatch',\n",
              " 'natural_questions',\n",
              " 'natural_questions_open',\n",
              " 'newsroom',\n",
              " 'nsynth',\n",
              " 'nyu_depth_v2',\n",
              " 'omniglot',\n",
              " 'open_images_challenge2019_detection',\n",
              " 'open_images_v4',\n",
              " 'openbookqa',\n",
              " 'opinion_abstracts',\n",
              " 'opinosis',\n",
              " 'opus',\n",
              " 'oxford_flowers102',\n",
              " 'oxford_iiit_pet',\n",
              " 'para_crawl',\n",
              " 'patch_camelyon',\n",
              " 'paws_wiki',\n",
              " 'paws_x_wiki',\n",
              " 'pet_finder',\n",
              " 'pg19',\n",
              " 'places365_small',\n",
              " 'plant_leaves',\n",
              " 'plant_village',\n",
              " 'plantae_k',\n",
              " 'qa4mre',\n",
              " 'qasc',\n",
              " 'quickdraw_bitmap',\n",
              " 'radon',\n",
              " 'reddit',\n",
              " 'reddit_disentanglement',\n",
              " 'reddit_tifu',\n",
              " 'resisc45',\n",
              " 'robonet',\n",
              " 'rock_paper_scissors',\n",
              " 'rock_you',\n",
              " 'salient_span_wikipedia',\n",
              " 'samsum',\n",
              " 'savee',\n",
              " 'scan',\n",
              " 'scene_parse150',\n",
              " 'scicite',\n",
              " 'scientific_papers',\n",
              " 'sentiment140',\n",
              " 'shapes3d',\n",
              " 'smallnorb',\n",
              " 'snli',\n",
              " 'so2sat',\n",
              " 'speech_commands',\n",
              " 'spoken_digit',\n",
              " 'squad',\n",
              " 'stanford_dogs',\n",
              " 'stanford_online_products',\n",
              " 'starcraft_video',\n",
              " 'stl10',\n",
              " 'sun397',\n",
              " 'super_glue',\n",
              " 'svhn_cropped',\n",
              " 'ted_hrlr_translate',\n",
              " 'ted_multi_translate',\n",
              " 'tedlium',\n",
              " 'tf_flowers',\n",
              " 'the300w_lp',\n",
              " 'tiny_shakespeare',\n",
              " 'titanic',\n",
              " 'trec',\n",
              " 'trivia_qa',\n",
              " 'tydi_qa',\n",
              " 'uc_merced',\n",
              " 'ucf101',\n",
              " 'vctk',\n",
              " 'vgg_face2',\n",
              " 'visual_domain_decathlon',\n",
              " 'voc',\n",
              " 'voxceleb',\n",
              " 'voxforge',\n",
              " 'waymo_open_dataset',\n",
              " 'web_questions',\n",
              " 'wider_face',\n",
              " 'wiki40b',\n",
              " 'wikihow',\n",
              " 'wikipedia',\n",
              " 'wikipedia_toxicity_subtypes',\n",
              " 'wine_quality',\n",
              " 'winogrande',\n",
              " 'wmt14_translate',\n",
              " 'wmt15_translate',\n",
              " 'wmt16_translate',\n",
              " 'wmt17_translate',\n",
              " 'wmt18_translate',\n",
              " 'wmt19_translate',\n",
              " 'wmt_t2t_translate',\n",
              " 'wmt_translate',\n",
              " 'wordnet',\n",
              " 'xnli',\n",
              " 'xquad',\n",
              " 'xsum',\n",
              " 'yelp_polarity_reviews',\n",
              " 'yes_no']"
            ]
          },
          "metadata": {},
          "execution_count": 7
        }
      ]
    },
    {
      "cell_type": "markdown",
      "source": [
        "Another way of downloading dataset\n",
        "\n",
        "from tensorflow.keras.datasets import cifar10\n",
        "(train_image, train_label), (test_image, test_label) = cifar10.load_data()"
      ],
      "metadata": {
        "id": "GD6lrXEwfFm0"
      }
    },
    {
      "cell_type": "code",
      "source": [
        "(train_data, test_data), ds_info = tfds.load(name=\"cifar10\",\n",
        "                                             split=[\"train\", \"test\"],\n",
        "                                             shuffle_files=True,\n",
        "                                             as_supervised=True,\n",
        "                                             with_info= True)"
      ],
      "metadata": {
        "id": "U_7CCfa0YtZe"
      },
      "execution_count": 80,
      "outputs": []
    },
    {
      "cell_type": "code",
      "source": [
        "ds_info.features"
      ],
      "metadata": {
        "colab": {
          "base_uri": "https://localhost:8080/"
        },
        "id": "1fdlf7VQd_q4",
        "outputId": "08fbd1ef-ef47-4dde-ab00-bc7ba3f02849"
      },
      "execution_count": 82,
      "outputs": [
        {
          "output_type": "execute_result",
          "data": {
            "text/plain": [
              "FeaturesDict({\n",
              "    'id': Text(shape=(), dtype=tf.string),\n",
              "    'image': Image(shape=(32, 32, 3), dtype=tf.uint8),\n",
              "    'label': ClassLabel(shape=(), dtype=tf.int64, num_classes=10),\n",
              "})"
            ]
          },
          "metadata": {},
          "execution_count": 82
        }
      ]
    },
    {
      "cell_type": "code",
      "source": [
        "class_names = ds_info.features[\"label\"].names\n",
        "class_names"
      ],
      "metadata": {
        "colab": {
          "base_uri": "https://localhost:8080/"
        },
        "id": "uk2kBoEyfX54",
        "outputId": "eff46480-25eb-4af1-965d-c11d0fdec2f1"
      },
      "execution_count": 83,
      "outputs": [
        {
          "output_type": "execute_result",
          "data": {
            "text/plain": [
              "['airplane',\n",
              " 'automobile',\n",
              " 'bird',\n",
              " 'cat',\n",
              " 'deer',\n",
              " 'dog',\n",
              " 'frog',\n",
              " 'horse',\n",
              " 'ship',\n",
              " 'truck']"
            ]
          },
          "metadata": {},
          "execution_count": 83
        }
      ]
    },
    {
      "cell_type": "code",
      "source": [
        "train_one_sample = train_data.take(1)"
      ],
      "metadata": {
        "id": "d7C9bCSlfmtE"
      },
      "execution_count": 84,
      "outputs": []
    },
    {
      "cell_type": "code",
      "source": [
        "train_one_sample"
      ],
      "metadata": {
        "colab": {
          "base_uri": "https://localhost:8080/"
        },
        "id": "pxqtJumXf62v",
        "outputId": "aea4b28b-419e-4305-c518-a0858454d3a0"
      },
      "execution_count": 85,
      "outputs": [
        {
          "output_type": "execute_result",
          "data": {
            "text/plain": [
              "<TakeDataset shapes: ((32, 32, 3), ()), types: (tf.uint8, tf.int64)>"
            ]
          },
          "metadata": {},
          "execution_count": 85
        }
      ]
    },
    {
      "cell_type": "code",
      "source": [
        "for image, label in train_one_sample:\n",
        "  print(f\"\"\"\n",
        "  Image Shape - {image.shape}\n",
        "  Image Dtype - {image.dtype}\n",
        "  Target class - {label}\n",
        "  Target label - {class_names[label]}\n",
        "  \"\"\")"
      ],
      "metadata": {
        "colab": {
          "base_uri": "https://localhost:8080/"
        },
        "id": "_483TckMgIo0",
        "outputId": "df55e8ea-98fa-4eec-c50b-c372d9e9bdf6"
      },
      "execution_count": 86,
      "outputs": [
        {
          "output_type": "stream",
          "name": "stdout",
          "text": [
            "\n",
            "  Image Shape - (32, 32, 3)\n",
            "  Image Dtype - <dtype: 'uint8'>\n",
            "  Target class - 7\n",
            "  Target label - horse\n",
            "  \n"
          ]
        }
      ]
    },
    {
      "cell_type": "code",
      "source": [
        "image"
      ],
      "metadata": {
        "colab": {
          "base_uri": "https://localhost:8080/"
        },
        "id": "38c8L5hyhMIQ",
        "outputId": "abdf1406-e86c-4d98-f8aa-82e3ffe43ce9"
      },
      "execution_count": 87,
      "outputs": [
        {
          "output_type": "execute_result",
          "data": {
            "text/plain": [
              "<tf.Tensor: shape=(32, 32, 3), dtype=uint8, numpy=\n",
              "array([[[143,  96,  70],\n",
              "        [141,  96,  72],\n",
              "        [135,  93,  72],\n",
              "        ...,\n",
              "        [ 96,  37,  19],\n",
              "        [105,  42,  18],\n",
              "        [104,  38,  20]],\n",
              "\n",
              "       [[128,  98,  92],\n",
              "        [146, 118, 112],\n",
              "        [170, 145, 138],\n",
              "        ...,\n",
              "        [108,  45,  26],\n",
              "        [112,  44,  24],\n",
              "        [112,  41,  22]],\n",
              "\n",
              "       [[ 93,  69,  75],\n",
              "        [118,  96, 101],\n",
              "        [179, 160, 162],\n",
              "        ...,\n",
              "        [128,  68,  47],\n",
              "        [125,  61,  42],\n",
              "        [122,  59,  39]],\n",
              "\n",
              "       ...,\n",
              "\n",
              "       [[187, 150, 123],\n",
              "        [184, 148, 123],\n",
              "        [179, 142, 121],\n",
              "        ...,\n",
              "        [198, 163, 132],\n",
              "        [201, 166, 135],\n",
              "        [207, 174, 143]],\n",
              "\n",
              "       [[187, 150, 117],\n",
              "        [181, 143, 115],\n",
              "        [175, 136, 113],\n",
              "        ...,\n",
              "        [201, 164, 132],\n",
              "        [205, 168, 135],\n",
              "        [207, 171, 139]],\n",
              "\n",
              "       [[195, 161, 126],\n",
              "        [187, 153, 123],\n",
              "        [186, 151, 128],\n",
              "        ...,\n",
              "        [212, 177, 147],\n",
              "        [219, 185, 155],\n",
              "        [221, 187, 157]]], dtype=uint8)>"
            ]
          },
          "metadata": {},
          "execution_count": 87
        }
      ]
    },
    {
      "cell_type": "code",
      "source": [
        "tf.reduce_min(image), tf.reduce_max(image)"
      ],
      "metadata": {
        "colab": {
          "base_uri": "https://localhost:8080/"
        },
        "id": "mxE7ttQeiNLn",
        "outputId": "cf58bf51-a9cc-4d39-b058-8db9a2605c4e"
      },
      "execution_count": 88,
      "outputs": [
        {
          "output_type": "execute_result",
          "data": {
            "text/plain": [
              "(<tf.Tensor: shape=(), dtype=uint8, numpy=0>,\n",
              " <tf.Tensor: shape=(), dtype=uint8, numpy=249>)"
            ]
          },
          "metadata": {},
          "execution_count": 88
        }
      ]
    },
    {
      "cell_type": "code",
      "source": [
        "import matplotlib.pyplot as plt\n",
        "plt.imshow(image)\n",
        "plt.title(class_names[label])"
      ],
      "metadata": {
        "colab": {
          "base_uri": "https://localhost:8080/",
          "height": 298
        },
        "id": "xsc4hIlSiWhT",
        "outputId": "68cf473a-dea7-4148-e960-edbf7dc088df"
      },
      "execution_count": 89,
      "outputs": [
        {
          "output_type": "execute_result",
          "data": {
            "text/plain": [
              "Text(0.5, 1.0, 'horse')"
            ]
          },
          "metadata": {},
          "execution_count": 89
        },
        {
          "output_type": "display_data",
          "data": {
            "image/png": "[encoded data removed]",
            "text/plain": [
              "<Figure size 432x288 with 1 Axes>"
            ]
          },
          "metadata": {
            "needs_background": "light"
          }
        }
      ]
    },
    {
      "cell_type": "code",
      "source": [
        "def preprocess_image(image, label, image_size=32):\n",
        "  return tf.cast(image, tf.float32), label"
      ],
      "metadata": {
        "id": "3VyfPAX6kL7r"
      },
      "execution_count": 90,
      "outputs": []
    },
    {
      "cell_type": "code",
      "source": [
        "preprocessed_image = preprocess_image(image, label)[0]"
      ],
      "metadata": {
        "id": "hgACopWtkuwg"
      },
      "execution_count": 92,
      "outputs": []
    },
    {
      "cell_type": "code",
      "source": [
        "#preprocessed_image = preprocessed_image/225\n",
        "plt.imshow(preprocessed_image/225)"
      ],
      "metadata": {
        "colab": {
          "base_uri": "https://localhost:8080/",
          "height": 321
        },
        "id": "e_VmqwlknuzU",
        "outputId": "cd9ce7fd-8472-422f-ba96-e9b15a7d8061"
      },
      "execution_count": 93,
      "outputs": [
        {
          "output_type": "stream",
          "name": "stderr",
          "text": [
            "WARNING:matplotlib.image:Clipping input data to the valid range for imshow with RGB data ([0..1] for floats or [0..255] for integers).\n"
          ]
        },
        {
          "output_type": "execute_result",
          "data": {
            "text/plain": [
              "<matplotlib.image.AxesImage at 0x7f78b7f3dc50>"
            ]
          },
          "metadata": {},
          "execution_count": 93
        },
        {
          "output_type": "display_data",
          "data": {
            "image/png": "[encoded data removed]",
            "text/plain": [
              "<Figure size 432x288 with 1 Axes>"
            ]
          },
          "metadata": {
            "needs_background": "light"
          }
        }
      ]
    },
    {
      "cell_type": "code",
      "source": [
        "# Map preprocessing function to training data (and paralellize)\n",
        "train_data = train_data.map(map_func=preprocess_image, num_parallel_calls=tf.data.AUTOTUNE)\n",
        "# Shuffle train_data and turn it into batches and prefetch it (load it faster)\n",
        "train_data = train_data.shuffle(buffer_size=1000).batch(batch_size=32).prefetch(buffer_size=tf.data.AUTOTUNE)\n",
        "\n",
        "# Map prepreprocessing function to test data\n",
        "test_data = test_data.map(preprocess_image, num_parallel_calls=tf.data.AUTOTUNE)\n",
        "# Turn test data into batches (don't need to shuffle)\n",
        "test_data = test_data.batch(32).prefetch(tf.data.AUTOTUNE)"
      ],
      "metadata": {
        "id": "cTLGGEGgsbKt"
      },
      "execution_count": 95,
      "outputs": []
    },
    {
      "cell_type": "code",
      "source": [
        "train_data, test_data"
      ],
      "metadata": {
        "colab": {
          "base_uri": "https://localhost:8080/"
        },
        "id": "0U2oI4LKqY6q",
        "outputId": "45362621-b21c-4454-c400-8ed50d7f299e"
      },
      "execution_count": 97,
      "outputs": [
        {
          "output_type": "execute_result",
          "data": {
            "text/plain": [
              "(<PrefetchDataset shapes: ((None, 32, 32, 3), (None,)), types: (tf.float32, tf.int64)>,\n",
              " <PrefetchDataset shapes: ((None, 32, 32, 3), (None,)), types: (tf.float32, tf.int64)>)"
            ]
          },
          "metadata": {},
          "execution_count": 97
        }
      ]
    },
    {
      "cell_type": "code",
      "source": [
        "from helper_functions import create_tensorboard_callback\n",
        "\n",
        "checkpoint_path = \"saved_checkpoints\"\n",
        "model_checkpoint = tf.keras.callbacks.ModelCheckpoint(checkpoint_path,\n",
        "                                                      monitor = \"val_accuracy\",\n",
        "                                                      save_best_only=True,\n",
        "                                                      save_weights_only=True,\n",
        "                                                      verbose=1)\n"
      ],
      "metadata": {
        "id": "A7sdOuIUqey9"
      },
      "execution_count": 123,
      "outputs": []
    },
    {
      "cell_type": "code",
      "source": [
        "from tensorflow.keras import mixed_precision\n",
        "mixed_precision.set_global_policy(policy=\"mixed_float16\")"
      ],
      "metadata": {
        "colab": {
          "base_uri": "https://localhost:8080/"
        },
        "id": "Plx6NLv5tckf",
        "outputId": "397d2310-643b-457e-af39-e3b76ef55463"
      },
      "execution_count": 101,
      "outputs": [
        {
          "output_type": "stream",
          "name": "stdout",
          "text": [
            "WARNING:tensorflow:Mixed precision compatibility check (mixed_float16): WARNING\n",
            "Your GPU may run slowly with dtype policy mixed_float16 because it does not have compute capability of at least 7.0. Your GPU:\n",
            "  Tesla K80, compute capability 3.7\n",
            "See https://developer.nvidia.com/cuda-gpus for a list of GPUs and their compute capabilities.\n",
            "If you will use compatible GPU(s) not attached to this host, e.g. by running a multi-worker model, you can ignore this warning. This message will only be logged once\n"
          ]
        },
        {
          "output_type": "stream",
          "name": "stderr",
          "text": [
            "WARNING:tensorflow:Mixed precision compatibility check (mixed_float16): WARNING\n",
            "Your GPU may run slowly with dtype policy mixed_float16 because it does not have compute capability of at least 7.0. Your GPU:\n",
            "  Tesla K80, compute capability 3.7\n",
            "See https://developer.nvidia.com/cuda-gpus for a list of GPUs and their compute capabilities.\n",
            "If you will use compatible GPU(s) not attached to this host, e.g. by running a multi-worker model, you can ignore this warning. This message will only be logged once\n"
          ]
        }
      ]
    },
    {
      "cell_type": "code",
      "source": [
        "from tensorflow.keras import layers\n",
        "from tensorflow.keras.layers.experimental import preprocessing\n",
        "\n",
        "input_shape = (32, 32, 3)\n",
        "base_model = tf.keras.applications.EfficientNetB0(include_top=False)\n",
        "base_model.trainable = False\n",
        "\n",
        "inputs = layers.Input(shape = input_shape, name=\"input_shape\", dtype=tf.float32)\n",
        "\n",
        "x = base_model(inputs, training = False)\n",
        "x = layers.GlobalAveragePooling2D(name=\"pooling_layer\")(x)\n",
        "x = layers.Dense(10)(x)\n",
        "outputs = layers.Activation(\"softmax\",dtype=tf.float32)(x)\n",
        "model = tf.keras.Model(inputs, outputs)"
      ],
      "metadata": {
        "id": "2Z2r9ryZvE69"
      },
      "execution_count": 128,
      "outputs": []
    },
    {
      "cell_type": "code",
      "source": [
        "model.summary()"
      ],
      "metadata": {
        "colab": {
          "base_uri": "https://localhost:8080/"
        },
        "id": "okfeQRIUv9Ki",
        "outputId": "7dff7290-2603-4915-a1a7-9a798805b441"
      },
      "execution_count": 129,
      "outputs": [
        {
          "output_type": "stream",
          "name": "stdout",
          "text": [
            "Model: \"model_5\"\n",
            "_________________________________________________________________\n",
            " Layer (type)                Output Shape              Param #   \n",
            "=================================================================\n",
            " input_shape (InputLayer)    [(None, 32, 32, 3)]       0         \n",
            "                                                                 \n",
            " efficientnetb0 (Functional)  (None, None, None, 1280)  4049571  \n",
            "                                                                 \n",
            " pooling_layer (GlobalAverag  (None, 1280)             0         \n",
            " ePooling2D)                                                     \n",
            "                                                                 \n",
            " dense_5 (Dense)             (None, 10)                12810     \n",
            "                                                                 \n",
            " activation_5 (Activation)   (None, 10)                0         \n",
            "                                                                 \n",
            "=================================================================\n",
            "Total params: 4,062,381\n",
            "Trainable params: 12,810\n",
            "Non-trainable params: 4,049,571\n",
            "_________________________________________________________________\n"
          ]
        }
      ]
    },
    {
      "cell_type": "code",
      "source": [
        "model.compile(loss=\"sparse_categorical_crossentropy\",\n",
        "              optimizer=tf.keras.optimizers.Adam(),\n",
        "              metrics=[\"accuracy\"])"
      ],
      "metadata": {
        "id": "9OvZmehA2SJU"
      },
      "execution_count": 130,
      "outputs": []
    },
    {
      "cell_type": "code",
      "source": [
        "history = model.fit(train_data,\n",
        "                    epochs=15,\n",
        "                    #initial_epoch=history.epoch[-1],\n",
        "                    steps_per_epoch=len(train_data),\n",
        "                    validation_data=test_data,\n",
        "                    validation_steps=int(0.25 * len(test_data)),\n",
        "                    callbacks=[model_checkpoint])"
      ],
      "metadata": {
        "colab": {
          "base_uri": "https://localhost:8080/"
        },
        "id": "hFtUjggt2YnJ",
        "outputId": "800fbd44-ef2f-4815-f27a-40c12a14cb00"
      },
      "execution_count": 131,
      "outputs": [
        {
          "output_type": "stream",
          "name": "stdout",
          "text": [
            "Epoch 1/15\n",
            "1562/1563 [============================>.] - ETA: 0s - loss: 1.5176 - accuracy: 0.4678\n",
            "Epoch 00001: val_accuracy did not improve from 0.61218\n",
            "1563/1563 [==============================] - 56s 32ms/step - loss: 1.5176 - accuracy: 0.4678 - val_loss: 1.3489 - val_accuracy: 0.5389\n",
            "Epoch 2/15\n",
            "1563/1563 [==============================] - ETA: 0s - loss: 1.3031 - accuracy: 0.5415\n",
            "Epoch 00002: val_accuracy did not improve from 0.61218\n",
            "1563/1563 [==============================] - 48s 31ms/step - loss: 1.3031 - accuracy: 0.5415 - val_loss: 1.2654 - val_accuracy: 0.5545\n",
            "Epoch 3/15\n",
            "1562/1563 [============================>.] - ETA: 0s - loss: 1.2445 - accuracy: 0.5633\n",
            "Epoch 00003: val_accuracy did not improve from 0.61218\n",
            "1563/1563 [==============================] - 46s 29ms/step - loss: 1.2445 - accuracy: 0.5633 - val_loss: 1.2496 - val_accuracy: 0.5625\n",
            "Epoch 4/15\n",
            "1563/1563 [==============================] - ETA: 0s - loss: 1.2103 - accuracy: 0.5740\n",
            "Epoch 00004: val_accuracy did not improve from 0.61218\n",
            "1563/1563 [==============================] - 47s 30ms/step - loss: 1.2103 - accuracy: 0.5740 - val_loss: 1.2176 - val_accuracy: 0.5641\n",
            "Epoch 5/15\n",
            "1562/1563 [============================>.] - ETA: 0s - loss: 1.1850 - accuracy: 0.5824\n",
            "Epoch 00005: val_accuracy did not improve from 0.61218\n",
            "1563/1563 [==============================] - 47s 30ms/step - loss: 1.1849 - accuracy: 0.5825 - val_loss: 1.1942 - val_accuracy: 0.5789\n",
            "Epoch 6/15\n",
            "1562/1563 [============================>.] - ETA: 0s - loss: 1.1667 - accuracy: 0.5903\n",
            "Epoch 00006: val_accuracy did not improve from 0.61218\n",
            "1563/1563 [==============================] - 48s 30ms/step - loss: 1.1667 - accuracy: 0.5904 - val_loss: 1.2132 - val_accuracy: 0.5685\n",
            "Epoch 7/15\n",
            "1561/1563 [============================>.] - ETA: 0s - loss: 1.1527 - accuracy: 0.5931\n",
            "Epoch 00007: val_accuracy did not improve from 0.61218\n",
            "1563/1563 [==============================] - 48s 31ms/step - loss: 1.1525 - accuracy: 0.5932 - val_loss: 1.1798 - val_accuracy: 0.5797\n",
            "Epoch 8/15\n",
            "1563/1563 [==============================] - ETA: 0s - loss: 1.1400 - accuracy: 0.5979\n",
            "Epoch 00008: val_accuracy did not improve from 0.61218\n",
            "1563/1563 [==============================] - 48s 31ms/step - loss: 1.1400 - accuracy: 0.5979 - val_loss: 1.1646 - val_accuracy: 0.5861\n",
            "Epoch 9/15\n",
            "1561/1563 [============================>.] - ETA: 0s - loss: 1.1293 - accuracy: 0.6027\n",
            "Epoch 00009: val_accuracy did not improve from 0.61218\n",
            "1563/1563 [==============================] - 48s 31ms/step - loss: 1.1291 - accuracy: 0.6028 - val_loss: 1.1636 - val_accuracy: 0.5821\n",
            "Epoch 10/15\n",
            "1563/1563 [==============================] - ETA: 0s - loss: 1.1202 - accuracy: 0.6052\n",
            "Epoch 00010: val_accuracy did not improve from 0.61218\n",
            "1563/1563 [==============================] - 48s 31ms/step - loss: 1.1202 - accuracy: 0.6052 - val_loss: 1.1616 - val_accuracy: 0.5917\n",
            "Epoch 11/15\n",
            "1561/1563 [============================>.] - ETA: 0s - loss: 1.1129 - accuracy: 0.6082\n",
            "Epoch 00011: val_accuracy did not improve from 0.61218\n",
            "1563/1563 [==============================] - 47s 30ms/step - loss: 1.1127 - accuracy: 0.6082 - val_loss: 1.1625 - val_accuracy: 0.5789\n",
            "Epoch 12/15\n",
            "1563/1563 [==============================] - ETA: 0s - loss: 1.1045 - accuracy: 0.6099\n",
            "Epoch 00012: val_accuracy did not improve from 0.61218\n",
            "1563/1563 [==============================] - 47s 30ms/step - loss: 1.1045 - accuracy: 0.6099 - val_loss: 1.1403 - val_accuracy: 0.5994\n",
            "Epoch 13/15\n",
            "1563/1563 [==============================] - ETA: 0s - loss: 1.0988 - accuracy: 0.6128\n",
            "Epoch 00013: val_accuracy did not improve from 0.61218\n",
            "1563/1563 [==============================] - 47s 30ms/step - loss: 1.0988 - accuracy: 0.6128 - val_loss: 1.1475 - val_accuracy: 0.5978\n",
            "Epoch 14/15\n",
            "1563/1563 [==============================] - ETA: 0s - loss: 1.0931 - accuracy: 0.6149\n",
            "Epoch 00014: val_accuracy did not improve from 0.61218\n",
            "1563/1563 [==============================] - 48s 31ms/step - loss: 1.0931 - accuracy: 0.6149 - val_loss: 1.1486 - val_accuracy: 0.5889\n",
            "Epoch 15/15\n",
            "1562/1563 [============================>.] - ETA: 0s - loss: 1.0876 - accuracy: 0.6168\n",
            "Epoch 00015: val_accuracy did not improve from 0.61218\n",
            "1563/1563 [==============================] - 60s 38ms/step - loss: 1.0876 - accuracy: 0.6168 - val_loss: 1.1441 - val_accuracy: 0.5958\n"
          ]
        }
      ]
    },
    {
      "cell_type": "code",
      "source": [
        "model.evaluate(test_data)"
      ],
      "metadata": {
        "colab": {
          "base_uri": "https://localhost:8080/"
        },
        "id": "zpfMZsef23TO",
        "outputId": "a7cd45ae-1932-411e-821f-09863c7ba67d"
      },
      "execution_count": 118,
      "outputs": [
        {
          "output_type": "stream",
          "name": "stdout",
          "text": [
            "313/313 [==============================] - 9s 27ms/step - loss: 1.1816 - accuracy: 0.5868\n"
          ]
        },
        {
          "output_type": "execute_result",
          "data": {
            "text/plain": [
              "[1.181648850440979, 0.5867999792098999]"
            ]
          },
          "metadata": {},
          "execution_count": 118
        }
      ]
    },
    {
      "cell_type": "code",
      "source": [
        "base_model.trainable = True\n",
        "\n",
        "for layers in base_model.layers[:-10]:\n",
        "  layers.trainable = False\n",
        "\n",
        "model.compile(loss = \"sparse_categorical_crossentropy\",\n",
        "              optimizer = tf.keras.optimizers.Adam(learning_rate=0.0001),\n",
        "              metrics = [\"accuracy\"])\n"
      ],
      "metadata": {
        "id": "vLqdAZWiAN_n"
      },
      "execution_count": 140,
      "outputs": []
    },
    {
      "cell_type": "code",
      "source": [
        "for layer_number, layer in enumerate(base_model.layers):\n",
        "  print(layer_number, layer.name, layer.trainable)"
      ],
      "metadata": {
        "colab": {
          "base_uri": "https://localhost:8080/"
        },
        "id": "T8sHprEXAkYm",
        "outputId": "354cf5cc-8cb2-49b7-e678-a7cd2c245514"
      },
      "execution_count": 141,
      "outputs": [
        {
          "output_type": "stream",
          "name": "stdout",
          "text": [
            "0 input_7 False\n",
            "1 rescaling_6 False\n",
            "2 normalization_6 False\n",
            "3 stem_conv_pad False\n",
            "4 stem_conv False\n",
            "5 stem_bn False\n",
            "6 stem_activation False\n",
            "7 block1a_dwconv False\n",
            "8 block1a_bn False\n",
            "9 block1a_activation False\n",
            "10 block1a_se_squeeze False\n",
            "11 block1a_se_reshape False\n",
            "12 block1a_se_reduce False\n",
            "13 block1a_se_expand False\n",
            "14 block1a_se_excite False\n",
            "15 block1a_project_conv False\n",
            "16 block1a_project_bn False\n",
            "17 block2a_expand_conv False\n",
            "18 block2a_expand_bn False\n",
            "19 block2a_expand_activation False\n",
            "20 block2a_dwconv_pad False\n",
            "21 block2a_dwconv False\n",
            "22 block2a_bn False\n",
            "23 block2a_activation False\n",
            "24 block2a_se_squeeze False\n",
            "25 block2a_se_reshape False\n",
            "26 block2a_se_reduce False\n",
            "27 block2a_se_expand False\n",
            "28 block2a_se_excite False\n",
            "29 block2a_project_conv False\n",
            "30 block2a_project_bn False\n",
            "31 block2b_expand_conv False\n",
            "32 block2b_expand_bn False\n",
            "33 block2b_expand_activation False\n",
            "34 block2b_dwconv False\n",
            "35 block2b_bn False\n",
            "36 block2b_activation False\n",
            "37 block2b_se_squeeze False\n",
            "38 block2b_se_reshape False\n",
            "39 block2b_se_reduce False\n",
            "40 block2b_se_expand False\n",
            "41 block2b_se_excite False\n",
            "42 block2b_project_conv False\n",
            "43 block2b_project_bn False\n",
            "44 block2b_drop False\n",
            "45 block2b_add False\n",
            "46 block3a_expand_conv False\n",
            "47 block3a_expand_bn False\n",
            "48 block3a_expand_activation False\n",
            "49 block3a_dwconv_pad False\n",
            "50 block3a_dwconv False\n",
            "51 block3a_bn False\n",
            "52 block3a_activation False\n",
            "53 block3a_se_squeeze False\n",
            "54 block3a_se_reshape False\n",
            "55 block3a_se_reduce False\n",
            "56 block3a_se_expand False\n",
            "57 block3a_se_excite False\n",
            "58 block3a_project_conv False\n",
            "59 block3a_project_bn False\n",
            "60 block3b_expand_conv False\n",
            "61 block3b_expand_bn False\n",
            "62 block3b_expand_activation False\n",
            "63 block3b_dwconv False\n",
            "64 block3b_bn False\n",
            "65 block3b_activation False\n",
            "66 block3b_se_squeeze False\n",
            "67 block3b_se_reshape False\n",
            "68 block3b_se_reduce False\n",
            "69 block3b_se_expand False\n",
            "70 block3b_se_excite False\n",
            "71 block3b_project_conv False\n",
            "72 block3b_project_bn False\n",
            "73 block3b_drop False\n",
            "74 block3b_add False\n",
            "75 block4a_expand_conv False\n",
            "76 block4a_expand_bn False\n",
            "77 block4a_expand_activation False\n",
            "78 block4a_dwconv_pad False\n",
            "79 block4a_dwconv False\n",
            "80 block4a_bn False\n",
            "81 block4a_activation False\n",
            "82 block4a_se_squeeze False\n",
            "83 block4a_se_reshape False\n",
            "84 block4a_se_reduce False\n",
            "85 block4a_se_expand False\n",
            "86 block4a_se_excite False\n",
            "87 block4a_project_conv False\n",
            "88 block4a_project_bn False\n",
            "89 block4b_expand_conv False\n",
            "90 block4b_expand_bn False\n",
            "91 block4b_expand_activation False\n",
            "92 block4b_dwconv False\n",
            "93 block4b_bn False\n",
            "94 block4b_activation False\n",
            "95 block4b_se_squeeze False\n",
            "96 block4b_se_reshape False\n",
            "97 block4b_se_reduce False\n",
            "98 block4b_se_expand False\n",
            "99 block4b_se_excite False\n",
            "100 block4b_project_conv False\n",
            "101 block4b_project_bn False\n",
            "102 block4b_drop False\n",
            "103 block4b_add False\n",
            "104 block4c_expand_conv False\n",
            "105 block4c_expand_bn False\n",
            "106 block4c_expand_activation False\n",
            "107 block4c_dwconv False\n",
            "108 block4c_bn False\n",
            "109 block4c_activation False\n",
            "110 block4c_se_squeeze False\n",
            "111 block4c_se_reshape False\n",
            "112 block4c_se_reduce False\n",
            "113 block4c_se_expand False\n",
            "114 block4c_se_excite False\n",
            "115 block4c_project_conv False\n",
            "116 block4c_project_bn False\n",
            "117 block4c_drop False\n",
            "118 block4c_add False\n",
            "119 block5a_expand_conv False\n",
            "120 block5a_expand_bn False\n",
            "121 block5a_expand_activation False\n",
            "122 block5a_dwconv False\n",
            "123 block5a_bn False\n",
            "124 block5a_activation False\n",
            "125 block5a_se_squeeze False\n",
            "126 block5a_se_reshape False\n",
            "127 block5a_se_reduce False\n",
            "128 block5a_se_expand False\n",
            "129 block5a_se_excite False\n",
            "130 block5a_project_conv False\n",
            "131 block5a_project_bn False\n",
            "132 block5b_expand_conv False\n",
            "133 block5b_expand_bn False\n",
            "134 block5b_expand_activation False\n",
            "135 block5b_dwconv False\n",
            "136 block5b_bn False\n",
            "137 block5b_activation False\n",
            "138 block5b_se_squeeze False\n",
            "139 block5b_se_reshape False\n",
            "140 block5b_se_reduce False\n",
            "141 block5b_se_expand False\n",
            "142 block5b_se_excite False\n",
            "143 block5b_project_conv False\n",
            "144 block5b_project_bn False\n",
            "145 block5b_drop False\n",
            "146 block5b_add False\n",
            "147 block5c_expand_conv False\n",
            "148 block5c_expand_bn False\n",
            "149 block5c_expand_activation False\n",
            "150 block5c_dwconv False\n",
            "151 block5c_bn False\n",
            "152 block5c_activation False\n",
            "153 block5c_se_squeeze False\n",
            "154 block5c_se_reshape False\n",
            "155 block5c_se_reduce False\n",
            "156 block5c_se_expand False\n",
            "157 block5c_se_excite False\n",
            "158 block5c_project_conv False\n",
            "159 block5c_project_bn False\n",
            "160 block5c_drop False\n",
            "161 block5c_add False\n",
            "162 block6a_expand_conv False\n",
            "163 block6a_expand_bn False\n",
            "164 block6a_expand_activation False\n",
            "165 block6a_dwconv_pad False\n",
            "166 block6a_dwconv False\n",
            "167 block6a_bn False\n",
            "168 block6a_activation False\n",
            "169 block6a_se_squeeze False\n",
            "170 block6a_se_reshape False\n",
            "171 block6a_se_reduce False\n",
            "172 block6a_se_expand False\n",
            "173 block6a_se_excite False\n",
            "174 block6a_project_conv False\n",
            "175 block6a_project_bn False\n",
            "176 block6b_expand_conv False\n",
            "177 block6b_expand_bn False\n",
            "178 block6b_expand_activation False\n",
            "179 block6b_dwconv False\n",
            "180 block6b_bn False\n",
            "181 block6b_activation False\n",
            "182 block6b_se_squeeze False\n",
            "183 block6b_se_reshape False\n",
            "184 block6b_se_reduce False\n",
            "185 block6b_se_expand False\n",
            "186 block6b_se_excite False\n",
            "187 block6b_project_conv False\n",
            "188 block6b_project_bn False\n",
            "189 block6b_drop False\n",
            "190 block6b_add False\n",
            "191 block6c_expand_conv False\n",
            "192 block6c_expand_bn False\n",
            "193 block6c_expand_activation False\n",
            "194 block6c_dwconv False\n",
            "195 block6c_bn False\n",
            "196 block6c_activation False\n",
            "197 block6c_se_squeeze False\n",
            "198 block6c_se_reshape False\n",
            "199 block6c_se_reduce False\n",
            "200 block6c_se_expand False\n",
            "201 block6c_se_excite False\n",
            "202 block6c_project_conv False\n",
            "203 block6c_project_bn False\n",
            "204 block6c_drop False\n",
            "205 block6c_add False\n",
            "206 block6d_expand_conv False\n",
            "207 block6d_expand_bn False\n",
            "208 block6d_expand_activation False\n",
            "209 block6d_dwconv False\n",
            "210 block6d_bn False\n",
            "211 block6d_activation False\n",
            "212 block6d_se_squeeze False\n",
            "213 block6d_se_reshape False\n",
            "214 block6d_se_reduce False\n",
            "215 block6d_se_expand False\n",
            "216 block6d_se_excite False\n",
            "217 block6d_project_conv False\n",
            "218 block6d_project_bn False\n",
            "219 block6d_drop False\n",
            "220 block6d_add False\n",
            "221 block7a_expand_conv False\n",
            "222 block7a_expand_bn False\n",
            "223 block7a_expand_activation False\n",
            "224 block7a_dwconv False\n",
            "225 block7a_bn False\n",
            "226 block7a_activation False\n",
            "227 block7a_se_squeeze True\n",
            "228 block7a_se_reshape True\n",
            "229 block7a_se_reduce True\n",
            "230 block7a_se_expand True\n",
            "231 block7a_se_excite True\n",
            "232 block7a_project_conv True\n",
            "233 block7a_project_bn True\n",
            "234 top_conv True\n",
            "235 top_bn True\n",
            "236 top_activation True\n"
          ]
        }
      ]
    },
    {
      "cell_type": "code",
      "source": [
        "history.history.epochs[-1]"
      ],
      "metadata": {
        "colab": {
          "base_uri": "https://localhost:8080/",
          "height": 165
        },
        "id": "exuGH4UYMS_M",
        "outputId": "dd87f23d-9c22-4d2e-9b2f-ab5308ed3e74"
      },
      "execution_count": 142,
      "outputs": [
        {
          "output_type": "error",
          "ename": "AttributeError",
          "evalue": "ignored",
          "traceback": [
            "\u001b[0;31m---------------------------------------------------------------------------\u001b[0m",
            "\u001b[0;31mAttributeError\u001b[0m                            Traceback (most recent call last)",
            "\u001b[0;32m<ipython-input-142-364591a8b09e>\u001b[0m in \u001b[0;36m<module>\u001b[0;34m()\u001b[0m\n\u001b[0;32m----> 1\u001b[0;31m \u001b[0mhistory\u001b[0m\u001b[0;34m.\u001b[0m\u001b[0mhistory\u001b[0m\u001b[0;34m.\u001b[0m\u001b[0mepochs\u001b[0m\u001b[0;34m[\u001b[0m\u001b[0;34m-\u001b[0m\u001b[0;36m1\u001b[0m\u001b[0;34m]\u001b[0m\u001b[0;34m\u001b[0m\u001b[0;34m\u001b[0m\u001b[0m\n\u001b[0m",
            "\u001b[0;31mAttributeError\u001b[0m: 'dict' object has no attribute 'epochs'"
          ]
        }
      ]
    },
    {
      "cell_type": "code",
      "source": [
        "initial_epochs = 15\n",
        "fine_tune_epochs = initial_epochs + 10\n",
        "finetune_history = model.fit(train_data,\n",
        "                             epochs=fine_tune_epochs,\n",
        "                             validation_data=test_data,\n",
        "                             initial_epoch = 14,\n",
        "                             validation_steps=int(0.25 * len(test_data)),\n",
        "                             callbacks=[model_checkpoint])"
      ],
      "metadata": {
        "colab": {
          "base_uri": "https://localhost:8080/"
        },
        "id": "nH6oiEziLcuZ",
        "outputId": "cb22a742-2106-4a6a-87bb-0de0e06392ab"
      },
      "execution_count": 143,
      "outputs": [
        {
          "output_type": "stream",
          "name": "stdout",
          "text": [
            "Epoch 15/25\n",
            "1563/1563 [==============================] - ETA: 0s - loss: 0.8515 - accuracy: 0.6981\n",
            "Epoch 00015: val_accuracy improved from 0.61218 to 0.64824, saving model to saved_checkpoints\n",
            "1563/1563 [==============================] - 59s 33ms/step - loss: 0.8515 - accuracy: 0.6981 - val_loss: 0.9757 - val_accuracy: 0.6482\n",
            "Epoch 16/25\n",
            "1563/1563 [==============================] - ETA: 0s - loss: 0.7810 - accuracy: 0.7247\n",
            "Epoch 00016: val_accuracy improved from 0.64824 to 0.65144, saving model to saved_checkpoints\n",
            "1563/1563 [==============================] - 52s 33ms/step - loss: 0.7810 - accuracy: 0.7247 - val_loss: 0.9769 - val_accuracy: 0.6514\n",
            "Epoch 17/25\n",
            "1562/1563 [============================>.] - ETA: 0s - loss: 0.7328 - accuracy: 0.7421\n",
            "Epoch 00017: val_accuracy improved from 0.65144 to 0.65184, saving model to saved_checkpoints\n",
            "1563/1563 [==============================] - 52s 33ms/step - loss: 0.7329 - accuracy: 0.7420 - val_loss: 0.9677 - val_accuracy: 0.6518\n",
            "Epoch 18/25\n",
            "1563/1563 [==============================] - ETA: 0s - loss: 0.6895 - accuracy: 0.7580\n",
            "Epoch 00018: val_accuracy did not improve from 0.65184\n",
            "1563/1563 [==============================] - 52s 33ms/step - loss: 0.6895 - accuracy: 0.7580 - val_loss: 0.9704 - val_accuracy: 0.6518\n",
            "Epoch 19/25\n",
            "1562/1563 [============================>.] - ETA: 0s - loss: 0.6463 - accuracy: 0.7753\n",
            "Epoch 00019: val_accuracy did not improve from 0.65184\n",
            "1563/1563 [==============================] - 51s 32ms/step - loss: 0.6464 - accuracy: 0.7752 - val_loss: 0.9909 - val_accuracy: 0.6446\n",
            "Epoch 20/25\n",
            "1563/1563 [==============================] - ETA: 0s - loss: 0.6050 - accuracy: 0.7894\n",
            "Epoch 00020: val_accuracy did not improve from 0.65184\n",
            "1563/1563 [==============================] - 52s 33ms/step - loss: 0.6050 - accuracy: 0.7894 - val_loss: 1.0044 - val_accuracy: 0.6470\n",
            "Epoch 21/25\n",
            "1563/1563 [==============================] - ETA: 0s - loss: 0.5644 - accuracy: 0.8060\n",
            "Epoch 00021: val_accuracy improved from 0.65184 to 0.65224, saving model to saved_checkpoints\n",
            "1563/1563 [==============================] - 54s 34ms/step - loss: 0.5644 - accuracy: 0.8060 - val_loss: 1.0251 - val_accuracy: 0.6522\n",
            "Epoch 22/25\n",
            "1562/1563 [============================>.] - ETA: 0s - loss: 0.5245 - accuracy: 0.8199\n",
            "Epoch 00022: val_accuracy improved from 0.65224 to 0.65505, saving model to saved_checkpoints\n",
            "1563/1563 [==============================] - 51s 33ms/step - loss: 0.5245 - accuracy: 0.8199 - val_loss: 1.0479 - val_accuracy: 0.6550\n",
            "Epoch 23/25\n",
            "1563/1563 [==============================] - ETA: 0s - loss: 0.4848 - accuracy: 0.8368\n",
            "Epoch 00023: val_accuracy did not improve from 0.65505\n",
            "1563/1563 [==============================] - 52s 33ms/step - loss: 0.4848 - accuracy: 0.8368 - val_loss: 1.0760 - val_accuracy: 0.6506\n",
            "Epoch 24/25\n",
            "1563/1563 [==============================] - ETA: 0s - loss: 0.4467 - accuracy: 0.8501\n",
            "Epoch 00024: val_accuracy did not improve from 0.65505\n",
            "1563/1563 [==============================] - 51s 33ms/step - loss: 0.4467 - accuracy: 0.8501 - val_loss: 1.1214 - val_accuracy: 0.6454\n",
            "Epoch 25/25\n",
            "1563/1563 [==============================] - ETA: 0s - loss: 0.4094 - accuracy: 0.8644\n",
            "Epoch 00025: val_accuracy did not improve from 0.65505\n",
            "1563/1563 [==============================] - 55s 35ms/step - loss: 0.4094 - accuracy: 0.8644 - val_loss: 1.1726 - val_accuracy: 0.6406\n"
          ]
        }
      ]
    },
    {
      "cell_type": "code",
      "source": [
        "model.evaluate(test_data)"
      ],
      "metadata": {
        "colab": {
          "base_uri": "https://localhost:8080/"
        },
        "id": "ZiWs_YDYMOot",
        "outputId": "522f448c-a2a1-481e-f0de-07fd8234d202"
      },
      "execution_count": 144,
      "outputs": [
        {
          "output_type": "stream",
          "name": "stdout",
          "text": [
            "313/313 [==============================] - 14s 44ms/step - loss: 1.1991 - accuracy: 0.6351\n"
          ]
        },
        {
          "output_type": "execute_result",
          "data": {
            "text/plain": [
              "[1.1991057395935059, 0.6351000070571899]"
            ]
          },
          "metadata": {},
          "execution_count": 144
        }
      ]
    },
    {
      "cell_type": "code",
      "source": [
        "model.save('my_model.h5')"
      ],
      "metadata": {
        "colab": {
          "base_uri": "https://localhost:8080/"
        },
        "id": "J0WcvAmrQG9G",
        "outputId": "ff3819c2-58ca-4f70-ab87-e593b135b6dd"
      },
      "execution_count": 145,
      "outputs": [
        {
          "output_type": "stream",
          "name": "stderr",
          "text": [
            "/usr/local/lib/python3.7/dist-packages/keras/engine/functional.py:1410: CustomMaskWarning: Custom mask layers require a config and must override get_config. When loading, the custom mask layer must be passed to the custom_objects argument.\n",
            "  layer_config = serialize_layer_fn(layer)\n"
          ]
        }
      ]
    },
    {
      "cell_type": "code",
      "source": [
        ""
      ],
      "metadata": {
        "id": "Mknr2ZK1Q-1g"
      },
      "execution_count": null,
      "outputs": []
    }
  ]
}